{
 "cells": [
  {
   "cell_type": "markdown",
   "metadata": {},
   "source": [
    "### Pre-Trained models"
   ]
  },
  {
   "cell_type": "code",
   "execution_count": 1,
   "metadata": {},
   "outputs": [],
   "source": [
    "import os\n",
    "import numpy as np\n",
    "import matplotlib.pyplot as plt\n",
    "import tensorflow as tf\n",
    "import seaborn as sns\n",
    "import cv2\n",
    "\n",
    "from sklearn.model_selection import train_test_split"
   ]
  },
  {
   "cell_type": "code",
   "execution_count": 2,
   "metadata": {},
   "outputs": [],
   "source": [
    "im_fol = os.path.join(\"D:/Users/James/Documents/Jupyter Saves/University/7088CEM/archive/\")"
   ]
  },
  {
   "cell_type": "code",
   "execution_count": 3,
   "metadata": {},
   "outputs": [],
   "source": [
    "im_fol = os.path.join(\"D:/Users/James/Documents/Jupyter Saves/University/7088CEM/archive/\")\n",
    "tum_types = [\"no_tumor\", \"meningioma_tumor\", \"pituitary_tumor\", \"glioma_tumor\"]\n",
    "\n",
    "# Training Data\n",
    "for ty in tum_types:\n",
    "    ty_fol = os.path.join(im_fol, \"Training\", ty)\n",
    "    for file in os.listdir(ty_fol):\n",
    "        im_path = os.path.join(ty_fol, file)\n",
    "        im = cv2.imread(im_path)\n",
    "\n",
    "im = cv2.resize(im, (512,512))        \n",
    "\n",
    "\n",
    "\n",
    "training = []\n",
    "\n",
    "for ty in tum_types:\n",
    "    ty_fol = os.path.join(im_fol, \"Training\", ty)\n",
    "    tum_num = tum_types.index(ty)\n",
    "    for file in os.listdir(ty_fol):\n",
    "        image_arr = cv2.imread(os.path.join(ty_fol, file), cv2.IMREAD_GRAYSCALE)\n",
    "        new_image_array = cv2.resize(image_arr, (128, 128))\n",
    "        training.append([new_image_array , tum_num])\n",
    "\n",
    "        \n",
    "        \n",
    "        \n",
    "# Testing Data\n",
    "testing = []\n",
    "\n",
    "for ty in tum_types:\n",
    "    ty_fol = os.path.join(im_fol, \"Testing\", ty)\n",
    "    tum_num = tum_types.index(ty)\n",
    "    for file in os.listdir(ty_fol):\n",
    "        image_arr = cv2.imread(os.path.join(ty_fol, file), cv2.IMREAD_GRAYSCALE)\n",
    "        new_image_array = cv2.resize(image_arr, (128, 128))\n",
    "        testing.append([new_image_array , tum_num])"
   ]
  },
  {
   "cell_type": "code",
   "execution_count": null,
   "metadata": {},
   "outputs": [],
   "source": []
  },
  {
   "cell_type": "code",
   "execution_count": 4,
   "metadata": {},
   "outputs": [
    {
     "name": "stdout",
     "output_type": "stream",
     "text": [
      "(2870, 128, 128)\n",
      "(394, 128, 128)\n"
     ]
    }
   ],
   "source": [
    "# Training\n",
    "x_train = []\n",
    "y_train = []\n",
    "\n",
    "for i, j in training:\n",
    "    x_train.append(i)\n",
    "    y_train.append(j)\n",
    "    \n",
    "x_train = np.array(x_train).reshape(-1, 128, 128)\n",
    "print(x_train.shape)\n",
    "\n",
    "x_train = x_train/255\n",
    "x_train = np.stack((x_train,)*3, axis=-1)\n",
    "\n",
    "\n",
    "\n",
    "# Validation\n",
    "x_train, x_val, y_train, y_val = train_test_split(x_train, y_train , test_size = 0.1, random_state = 123)\n",
    "\n",
    "\n",
    "\n",
    "# Testing\n",
    "x_test = []\n",
    "y_test = []\n",
    "\n",
    "for i, j in testing:\n",
    "    x_test.append(i)\n",
    "    y_test.append(j)\n",
    "\n",
    "x_test = np.array(x_test).reshape(-1, 128, 128)\n",
    "print(x_test.shape)\n",
    "\n",
    "x_test = x_test/255\n",
    "x_test = np.stack((x_test,)*3, axis=-1)"
   ]
  },
  {
   "cell_type": "code",
   "execution_count": 5,
   "metadata": {},
   "outputs": [],
   "source": [
    "from keras.utils.np_utils import to_categorical   \n",
    "\n",
    "y_train_enc = to_categorical(y_train, num_classes = 4)\n",
    "y_val_enc = to_categorical(y_val, num_classes = 4)\n",
    "y_test_enc = to_categorical(y_test, num_classes = 4)"
   ]
  },
  {
   "cell_type": "code",
   "execution_count": 6,
   "metadata": {},
   "outputs": [
    {
     "name": "stdout",
     "output_type": "stream",
     "text": [
      "(2583, 128, 128, 3)\n",
      "(287, 128, 128, 3)\n",
      "(2583, 4)\n",
      "(287, 4)\n"
     ]
    }
   ],
   "source": [
    "print(x_train.shape)\n",
    "print(x_val.shape)\n",
    "print(y_train_enc.shape)\n",
    "print(y_val_enc.shape)"
   ]
  },
  {
   "cell_type": "code",
   "execution_count": 7,
   "metadata": {},
   "outputs": [],
   "source": [
    "from sklearn.metrics import confusion_matrix\n",
    "from sklearn.metrics import plot_confusion_matrix\n",
    "\n",
    "import itertools\n",
    "\n",
    "from keras.utils.np_utils import to_categorical \n",
    "from keras.models import Sequential\n",
    "from keras.layers import Dense, Dropout, Flatten, Conv2D, MaxPool2D, AveragePooling2D\n",
    "from keras.optimizers import RMSprop,Adam\n",
    "from keras.preprocessing.image import ImageDataGenerator\n",
    "from keras.callbacks import ReduceLROnPlateau\n",
    "from keras.callbacks import EarlyStopping"
   ]
  },
  {
   "cell_type": "code",
   "execution_count": 8,
   "metadata": {},
   "outputs": [],
   "source": [
    "datagen = ImageDataGenerator(\n",
    "    rescale = 1./255.,\n",
    "    rotation_range = 15,\n",
    "    width_shift_range = 0.2,\n",
    "    height_shift_range = 0.2,\n",
    "    shear_range = 0.2,\n",
    "    zoom_range = 0.2,\n",
    "    horizontal_flip = True)\n",
    "\n",
    "epochs = 30\n",
    "batch_size = 32\n",
    "\n",
    "datagen.flow(x_train, y_train_enc, batch_size = batch_size)\n",
    "\n",
    "datagen_test = ImageDataGenerator(\n",
    "    rescale = 1./255.)"
   ]
  },
  {
   "cell_type": "code",
   "execution_count": 15,
   "metadata": {},
   "outputs": [],
   "source": [
    "from tensorflow.keras.applications.vgg16 import VGG16\n",
    "from tensorflow.keras import layers\n",
    "\n",
    "\n",
    "#Pre-Trained Model expects 3 channels, thus must treat greyscale as coloured image\n",
    "\n",
    "vgg_model = VGG16(input_shape = (128, 128, 3), # Shape of our images\n",
    "include_top = False, # Leave out the last fully connected layer\n",
    "weights = 'imagenet')\n",
    "\n",
    "\n",
    "\n",
    "for layer in vgg_model.layers:\n",
    "    layer.trainable = False\n",
    "\n",
    "\n",
    "# Flatten the output layer to 1 dimension\n",
    "x = layers.Flatten()(vgg_model.output)\n",
    "\n",
    "# Add a fully connected layer with 512 hidden units and ReLU activation\n",
    "x = layers.Dense(512, activation='relu')(x)\n",
    "\n",
    "# Add a dropout rate of 0.5\n",
    "x = layers.Dropout(0.5)(x)\n",
    "\n",
    "# Add a final sigmoid layer for classification\n",
    "#Changed to softmax from sigmoid\n",
    "x = layers.Dense(4, activation='softmax')(x)\n",
    "\n",
    "model = tf.keras.models.Model(vgg_model.input, x)\n",
    "\n",
    "#Changed to crossentropy from binary_crossentropy\n",
    "model.compile(optimizer = tf.keras.optimizers.RMSprop(lr=0.0001), loss = 'categorical_crossentropy', metrics = ['acc'])"
   ]
  },
  {
   "cell_type": "code",
   "execution_count": 16,
   "metadata": {
    "scrolled": true
   },
   "outputs": [
    {
     "name": "stdout",
     "output_type": "stream",
     "text": [
      "Epoch 1/50\n",
      "80/80 [==============================] - 86s 1s/step - loss: 1.1924 - acc: 0.5184 - val_loss: 0.5719 - val_acc: 0.7944\n",
      "Epoch 2/50\n",
      "80/80 [==============================] - 78s 982ms/step - loss: 0.6086 - acc: 0.7671 - val_loss: 0.5295 - val_acc: 0.7666\n",
      "Epoch 3/50\n",
      "80/80 [==============================] - 79s 988ms/step - loss: 0.4859 - acc: 0.8089 - val_loss: 0.4149 - val_acc: 0.8432\n",
      "Epoch 4/50\n",
      "80/80 [==============================] - 79s 987ms/step - loss: 0.4336 - acc: 0.8317 - val_loss: 0.4109 - val_acc: 0.8153\n",
      "Epoch 5/50\n",
      "80/80 [==============================] - 81s 1s/step - loss: 0.3564 - acc: 0.8569 - val_loss: 0.3379 - val_acc: 0.8676\n",
      "Epoch 6/50\n",
      "80/80 [==============================] - 80s 1s/step - loss: 0.3418 - acc: 0.8780 - val_loss: 0.3461 - val_acc: 0.8850\n",
      "Epoch 7/50\n",
      "80/80 [==============================] - 80s 1s/step - loss: 0.3034 - acc: 0.8830 - val_loss: 0.3131 - val_acc: 0.8955\n",
      "Epoch 8/50\n",
      "80/80 [==============================] - 80s 1s/step - loss: 0.2836 - acc: 0.8907 - val_loss: 0.2916 - val_acc: 0.8885\n",
      "Epoch 9/50\n",
      "80/80 [==============================] - 83s 1s/step - loss: 0.2560 - acc: 0.9154 - val_loss: 0.2973 - val_acc: 0.8955\n",
      "Epoch 10/50\n",
      "80/80 [==============================] - 82s 1s/step - loss: 0.2698 - acc: 0.8958 - val_loss: 0.2695 - val_acc: 0.8955\n",
      "Epoch 11/50\n",
      "80/80 [==============================] - 82s 1s/step - loss: 0.2262 - acc: 0.9108 - val_loss: 0.3745 - val_acc: 0.8676\n",
      "Epoch 12/50\n",
      "80/80 [==============================] - 81s 1s/step - loss: 0.2207 - acc: 0.9121 - val_loss: 0.3249 - val_acc: 0.8746\n",
      "Epoch 13/50\n",
      "80/80 [==============================] - 81s 1s/step - loss: 0.1926 - acc: 0.9298 - val_loss: 0.2495 - val_acc: 0.8955\n",
      "Epoch 14/50\n",
      "80/80 [==============================] - 81s 1s/step - loss: 0.1906 - acc: 0.9246 - val_loss: 0.2664 - val_acc: 0.8955\n",
      "Epoch 15/50\n",
      "80/80 [==============================] - 81s 1s/step - loss: 0.1686 - acc: 0.9370 - val_loss: 0.2583 - val_acc: 0.8990\n",
      "Epoch 16/50\n",
      "80/80 [==============================] - 80s 1s/step - loss: 0.1716 - acc: 0.9408 - val_loss: 0.2815 - val_acc: 0.8850\n",
      "Epoch 17/50\n",
      "80/80 [==============================] - 80s 1s/step - loss: 0.1487 - acc: 0.9502 - val_loss: 0.2552 - val_acc: 0.9059\n",
      "Epoch 18/50\n",
      "80/80 [==============================] - 81s 1s/step - loss: 0.1334 - acc: 0.9592 - val_loss: 0.2438 - val_acc: 0.8990\n",
      "Epoch 19/50\n",
      "80/80 [==============================] - 80s 996ms/step - loss: 0.1368 - acc: 0.9473 - val_loss: 0.2544 - val_acc: 0.8990\n",
      "Epoch 20/50\n",
      "80/80 [==============================] - 81s 1s/step - loss: 0.1344 - acc: 0.9524 - val_loss: 0.2401 - val_acc: 0.9059\n",
      "Epoch 21/50\n",
      "80/80 [==============================] - 82s 1s/step - loss: 0.1438 - acc: 0.9477 - val_loss: 0.2383 - val_acc: 0.9129\n",
      "Epoch 22/50\n",
      "80/80 [==============================] - 80s 1s/step - loss: 0.1115 - acc: 0.9649 - val_loss: 0.2322 - val_acc: 0.9164\n",
      "Epoch 23/50\n",
      "80/80 [==============================] - 79s 994ms/step - loss: 0.1183 - acc: 0.9613 - val_loss: 0.2712 - val_acc: 0.8990\n",
      "Epoch 24/50\n",
      "80/80 [==============================] - 80s 1s/step - loss: 0.0942 - acc: 0.9687 - val_loss: 0.2188 - val_acc: 0.9059\n",
      "Epoch 25/50\n",
      "80/80 [==============================] - 81s 1s/step - loss: 0.0935 - acc: 0.9658 - val_loss: 0.2319 - val_acc: 0.9129\n",
      "Epoch 26/50\n",
      "80/80 [==============================] - 81s 1s/step - loss: 0.0926 - acc: 0.9695 - val_loss: 0.3086 - val_acc: 0.9024\n",
      "Epoch 27/50\n",
      "80/80 [==============================] - 81s 1s/step - loss: 0.0872 - acc: 0.9678 - val_loss: 0.2205 - val_acc: 0.9233\n",
      "Epoch 28/50\n",
      "80/80 [==============================] - 81s 1s/step - loss: 0.0808 - acc: 0.9750 - val_loss: 0.2634 - val_acc: 0.9024\n",
      "Epoch 29/50\n",
      "80/80 [==============================] - 79s 991ms/step - loss: 0.0863 - acc: 0.9740 - val_loss: 0.2372 - val_acc: 0.9129\n",
      "Epoch 30/50\n",
      "80/80 [==============================] - 79s 985ms/step - loss: 0.0713 - acc: 0.9763 - val_loss: 0.2142 - val_acc: 0.9233\n",
      "Epoch 31/50\n",
      "80/80 [==============================] - 78s 979ms/step - loss: 0.0769 - acc: 0.9802 - val_loss: 0.2768 - val_acc: 0.9059\n",
      "Epoch 32/50\n",
      "80/80 [==============================] - 79s 992ms/step - loss: 0.0572 - acc: 0.9827 - val_loss: 0.2193 - val_acc: 0.9129\n",
      "Epoch 33/50\n",
      "80/80 [==============================] - 79s 984ms/step - loss: 0.0618 - acc: 0.9814 - val_loss: 0.2272 - val_acc: 0.9094\n",
      "Epoch 34/50\n",
      "80/80 [==============================] - 78s 980ms/step - loss: 0.0476 - acc: 0.9856 - val_loss: 0.2749 - val_acc: 0.9059\n",
      "Epoch 35/50\n",
      "80/80 [==============================] - 79s 987ms/step - loss: 0.0683 - acc: 0.9778 - val_loss: 0.2450 - val_acc: 0.9199\n",
      "Epoch 36/50\n",
      "80/80 [==============================] - 80s 997ms/step - loss: 0.0570 - acc: 0.9789 - val_loss: 0.2642 - val_acc: 0.9129\n",
      "Epoch 37/50\n",
      "80/80 [==============================] - 80s 997ms/step - loss: 0.0505 - acc: 0.9828 - val_loss: 0.3278 - val_acc: 0.9059\n",
      "Epoch 38/50\n",
      "80/80 [==============================] - 81s 1s/step - loss: 0.0619 - acc: 0.9780 - val_loss: 0.3273 - val_acc: 0.8780\n",
      "Epoch 39/50\n",
      "80/80 [==============================] - 80s 1s/step - loss: 0.0510 - acc: 0.9799 - val_loss: 0.2480 - val_acc: 0.9199\n",
      "Epoch 40/50\n",
      "80/80 [==============================] - 81s 1s/step - loss: 0.0504 - acc: 0.9828 - val_loss: 0.3048 - val_acc: 0.8990\n",
      "Epoch 41/50\n",
      "80/80 [==============================] - 82s 1s/step - loss: 0.0523 - acc: 0.9839 - val_loss: 0.2306 - val_acc: 0.9303\n",
      "Epoch 42/50\n",
      "80/80 [==============================] - 79s 983ms/step - loss: 0.0366 - acc: 0.9880 - val_loss: 0.2225 - val_acc: 0.9268\n",
      "Epoch 43/50\n",
      "80/80 [==============================] - 80s 996ms/step - loss: 0.0399 - acc: 0.9888 - val_loss: 0.2296 - val_acc: 0.9199\n",
      "Epoch 44/50\n",
      "80/80 [==============================] - 79s 984ms/step - loss: 0.0344 - acc: 0.9878 - val_loss: 0.3747 - val_acc: 0.8920\n",
      "Epoch 45/50\n",
      "80/80 [==============================] - 79s 995ms/step - loss: 0.0420 - acc: 0.9874 - val_loss: 0.2196 - val_acc: 0.9268\n",
      "Epoch 46/50\n",
      "80/80 [==============================] - 80s 1s/step - loss: 0.0348 - acc: 0.9873 - val_loss: 0.2286 - val_acc: 0.9268\n",
      "Epoch 47/50\n",
      "80/80 [==============================] - 78s 982ms/step - loss: 0.0336 - acc: 0.9881 - val_loss: 0.2519 - val_acc: 0.9233\n",
      "Epoch 48/50\n",
      "80/80 [==============================] - 80s 1s/step - loss: 0.0294 - acc: 0.9913 - val_loss: 0.2400 - val_acc: 0.9233\n",
      "Epoch 49/50\n",
      "80/80 [==============================] - 78s 980ms/step - loss: 0.0381 - acc: 0.9859 - val_loss: 0.3624 - val_acc: 0.8990\n",
      "Epoch 50/50\n",
      "30/80 [==========>...................] - ETA: 43s - loss: 0.0660 - acc: 0.9786WARNING:tensorflow:Your input ran out of data; interrupting training. Make sure that your dataset or generator can generate at least `steps_per_epoch * epochs` batches (in this case, 4000 batches). You may need to use the repeat() function when building your dataset.\n",
      "80/80 [==============================] - 34s 416ms/step - loss: 0.0488 - acc: 0.9855 - val_loss: 0.2444 - val_acc: 0.9268\n"
     ]
    }
   ],
   "source": [
    "#vgghist = model.fit(datagen.flow(x_train, y_train_enc, batch_size = batch_size), validation_data = datagen_test.flow(x_val, y_val_enc, batch_size = batch_size), steps_per_epoch = 80, epochs = 30)\n",
    "\n",
    "vgghist = model.fit(x_train, y_train_enc, validation_data = (x_val, y_val_enc), steps_per_epoch = 80, epochs = 50)\n"
   ]
  },
  {
   "cell_type": "code",
   "execution_count": 17,
   "metadata": {},
   "outputs": [
    {
     "name": "stdout",
     "output_type": "stream",
     "text": [
      "13/13 [==============================] - 10s 789ms/step - loss: 2.9352 - acc: 0.7563\n",
      "9/9 [==============================] - 8s 836ms/step - loss: 0.2444 - acc: 0.9268\n",
      "Validation: accuracy = 0.926829  ;  loss_v = 0.244379\n",
      "Test: accuracy = 0.756345  ;  loss = 2.935189\n"
     ]
    }
   ],
   "source": [
    "loss, accuracy = model.evaluate(x_test, y_test_enc, verbose=1)\n",
    "loss_v, accuracy_v = model.evaluate(x_val, y_val_enc, verbose=1)\n",
    "print(\"Validation: accuracy = %f  ;  loss_v = %f\" % (accuracy_v, loss_v))\n",
    "print(\"Test: accuracy = %f  ;  loss = %f\" % (accuracy, loss))"
   ]
  },
  {
   "cell_type": "code",
   "execution_count": 12,
   "metadata": {},
   "outputs": [
    {
     "name": "stdout",
     "output_type": "stream",
     "text": [
      "Model: \"model\"\n",
      "_________________________________________________________________\n",
      "Layer (type)                 Output Shape              Param #   \n",
      "=================================================================\n",
      "input_1 (InputLayer)         [(None, 128, 128, 3)]     0         \n",
      "_________________________________________________________________\n",
      "block1_conv1 (Conv2D)        (None, 128, 128, 64)      1792      \n",
      "_________________________________________________________________\n",
      "block1_conv2 (Conv2D)        (None, 128, 128, 64)      36928     \n",
      "_________________________________________________________________\n",
      "block1_pool (MaxPooling2D)   (None, 64, 64, 64)        0         \n",
      "_________________________________________________________________\n",
      "block2_conv1 (Conv2D)        (None, 64, 64, 128)       73856     \n",
      "_________________________________________________________________\n",
      "block2_conv2 (Conv2D)        (None, 64, 64, 128)       147584    \n",
      "_________________________________________________________________\n",
      "block2_pool (MaxPooling2D)   (None, 32, 32, 128)       0         \n",
      "_________________________________________________________________\n",
      "block3_conv1 (Conv2D)        (None, 32, 32, 256)       295168    \n",
      "_________________________________________________________________\n",
      "block3_conv2 (Conv2D)        (None, 32, 32, 256)       590080    \n",
      "_________________________________________________________________\n",
      "block3_conv3 (Conv2D)        (None, 32, 32, 256)       590080    \n",
      "_________________________________________________________________\n",
      "block3_pool (MaxPooling2D)   (None, 16, 16, 256)       0         \n",
      "_________________________________________________________________\n",
      "block4_conv1 (Conv2D)        (None, 16, 16, 512)       1180160   \n",
      "_________________________________________________________________\n",
      "block4_conv2 (Conv2D)        (None, 16, 16, 512)       2359808   \n",
      "_________________________________________________________________\n",
      "block4_conv3 (Conv2D)        (None, 16, 16, 512)       2359808   \n",
      "_________________________________________________________________\n",
      "block4_pool (MaxPooling2D)   (None, 8, 8, 512)         0         \n",
      "_________________________________________________________________\n",
      "block5_conv1 (Conv2D)        (None, 8, 8, 512)         2359808   \n",
      "_________________________________________________________________\n",
      "block5_conv2 (Conv2D)        (None, 8, 8, 512)         2359808   \n",
      "_________________________________________________________________\n",
      "block5_conv3 (Conv2D)        (None, 8, 8, 512)         2359808   \n",
      "_________________________________________________________________\n",
      "block5_pool (MaxPooling2D)   (None, 4, 4, 512)         0         \n",
      "_________________________________________________________________\n",
      "flatten (Flatten)            (None, 8192)              0         \n",
      "_________________________________________________________________\n",
      "dense (Dense)                (None, 512)               4194816   \n",
      "_________________________________________________________________\n",
      "dropout (Dropout)            (None, 512)               0         \n",
      "_________________________________________________________________\n",
      "dense_1 (Dense)              (None, 4)                 2052      \n",
      "=================================================================\n",
      "Total params: 18,911,556\n",
      "Trainable params: 4,196,868\n",
      "Non-trainable params: 14,714,688\n",
      "_________________________________________________________________\n"
     ]
    }
   ],
   "source": [
    "model.summary()"
   ]
  },
  {
   "cell_type": "markdown",
   "metadata": {},
   "source": [
    "### Evaluations"
   ]
  },
  {
   "cell_type": "code",
   "execution_count": null,
   "metadata": {},
   "outputs": [],
   "source": [
    "score = model.evaluate(x_train, y_train_enc)\n",
    "score"
   ]
  },
  {
   "cell_type": "code",
   "execution_count": null,
   "metadata": {},
   "outputs": [],
   "source": [
    "score = model.evaluate(x_val, y_val_enc)\n",
    "score"
   ]
  },
  {
   "cell_type": "code",
   "execution_count": null,
   "metadata": {},
   "outputs": [],
   "source": [
    "score = model.evaluate(x_test, y_test_enc)\n",
    "score"
   ]
  },
  {
   "cell_type": "code",
   "execution_count": null,
   "metadata": {},
   "outputs": [],
   "source": []
  },
  {
   "cell_type": "markdown",
   "metadata": {},
   "source": [
    "### Confusion Matrices"
   ]
  },
  {
   "cell_type": "code",
   "execution_count": 13,
   "metadata": {},
   "outputs": [],
   "source": [
    "# Function to plot confusion matrix    \n",
    "def plot_confusion_matrix(cm, classes,\n",
    "                          normalize=False,\n",
    "                          title='Confusion matrix',\n",
    "                          cmap=plt.cm.Blues):\n",
    "    \"\"\"\n",
    "    This function prints and plots the confusion matrix.\n",
    "    Normalization can be applied by setting `normalize=True`.\n",
    "    \"\"\"\n",
    "    plt.imshow(cm, interpolation='nearest', cmap=cmap)\n",
    "    plt.title(title, fontsize = 45)\n",
    "#    plt.colorbar()\n",
    "    tick_marks = np.arange(len(classes))\n",
    "    plt.xticks(tick_marks, classes, rotation=45, fontsize = 30)\n",
    "    plt.yticks(tick_marks, classes, fontsize = 30)\n",
    "\n",
    "    if normalize:\n",
    "        cm = cm.astype('float') / cm.sum(axis=1)[:, np.newaxis]\n",
    "\n",
    "    thresh = cm.max() / 2.\n",
    "    for i, j in itertools.product(range(cm.shape[0]), range(cm.shape[1])):\n",
    "        plt.text(j, i, cm[i, j], fontsize = 45,\n",
    "                 horizontalalignment=\"center\",\n",
    "                 color=\"white\" if cm[i, j] > thresh else \"black\")\n",
    "\n",
    "    plt.tight_layout()\n",
    "    plt.ylabel('True label', fontsize = 45)\n",
    "    plt.xlabel('Predicted label', fontsize = 45)\n"
   ]
  },
  {
   "cell_type": "code",
   "execution_count": null,
   "metadata": {},
   "outputs": [],
   "source": []
  },
  {
   "cell_type": "markdown",
   "metadata": {},
   "source": [
    "### Test Data Con Mat"
   ]
  },
  {
   "cell_type": "code",
   "execution_count": null,
   "metadata": {},
   "outputs": [],
   "source": []
  },
  {
   "cell_type": "code",
   "execution_count": 14,
   "metadata": {},
   "outputs": [
    {
     "data": {
      "image/png": "[encoded data removed]",
      "text/plain": [
       "<Figure size 1440x1440 with 1 Axes>"
      ]
     },
     "metadata": {
      "needs_background": "light"
     },
     "output_type": "display_data"
    }
   ],
   "source": [
    "y_test_pred = model.predict(x_test)\n",
    "y_test_pred_classes = np.argmax(y_test_pred, axis=1)\n",
    "\n",
    "test_con_mat = confusion_matrix(y_test, y_test_pred_classes)\n",
    "\n",
    "\n",
    "np.set_printoptions(precision=2)\n",
    "plt.figure(figsize = (20,20))\n",
    "plot_confusion_matrix(test_con_mat, classes = [\"No Tumor\", \"Meningioma\", \"Pituitary\", \"Glioma\"], title='Testing Confusion Matrix')"
   ]
  },
  {
   "cell_type": "code",
   "execution_count": null,
   "metadata": {},
   "outputs": [],
   "source": []
  }
 ],
 "metadata": {
  "kernelspec": {
   "display_name": "Python 3",
   "language": "python",
   "name": "python3"
  },
  "language_info": {
   "codemirror_mode": {
    "name": "ipython",
    "version": 3
   },
   "file_extension": ".py",
   "mimetype": "text/x-python",
   "name": "python",
   "nbconvert_exporter": "python",
   "pygments_lexer": "ipython3",
   "version": "3.7.9"
  }
 },
 "nbformat": 4,
 "nbformat_minor": 4
}
